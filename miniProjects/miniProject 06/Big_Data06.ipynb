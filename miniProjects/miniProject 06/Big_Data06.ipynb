{
  "nbformat": 4,
  "nbformat_minor": 0,
  "metadata": {
    "colab": {
      "name": "Big_Data06.ipynb",
      "provenance": [],
      "collapsed_sections": [],
      "toc_visible": true
    },
    "kernelspec": {
      "name": "python3",
      "display_name": "Python 3"
    },
    "language_info": {
      "name": "python"
    }
  },
  "cells": [
    {
      "cell_type": "markdown",
      "source": [
        "# Assignment 6 Report\n",
        "# Name - Ambuj Mishra\n",
        "# Student ID - 202116003\n",
        "\n",
        "##### This is a colab PDF containing both question codes and the description required in the assignment."
      ],
      "metadata": {
        "id": "A9maItP8P7Zl"
      }
    },
    {
      "cell_type": "markdown",
      "source": [
        "# Spark Initialization"
      ],
      "metadata": {
        "id": "zmA0CYUzImV-"
      }
    },
    {
      "cell_type": "code",
      "execution_count": null,
      "metadata": {
        "id": "DKmUHlrOlH5W"
      },
      "outputs": [],
      "source": [
        "# innstall java\n",
        "!apt-get install openjdk-8-jdk-headless -qq > /dev/null\n",
        "\n",
        "# install spark (change the version number if needed)\n",
        "!wget -q https://archive.apache.org/dist/spark/spark-3.0.0/spark-3.0.0-bin-hadoop3.2.tgz\n",
        "\n",
        "# unzip the spark file to the current folder\n",
        "!tar xf spark-3.0.0-bin-hadoop3.2.tgz\n",
        "\n",
        "# set your spark folder to your system path environment. \n",
        "import os\n",
        "os.environ[\"JAVA_HOME\"] = \"/usr/lib/jvm/java-8-openjdk-amd64\"\n",
        "os.environ[\"SPARK_HOME\"] = \"/content/spark-3.0.0-bin-hadoop3.2\"\n",
        "\n",
        "\n",
        "# install findspark using pip\n",
        "!pip install -q findspark"
      ]
    },
    {
      "cell_type": "code",
      "source": [
        "import findspark\n",
        "\n",
        "findspark.init()"
      ],
      "metadata": {
        "id": "v-Qt5n0toW7U"
      },
      "execution_count": null,
      "outputs": []
    },
    {
      "cell_type": "code",
      "source": [
        "from pyspark.sql import SparkSession\n",
        "spark = SparkSession.builder\\\n",
        "        .master(\"local\")\\\n",
        "        .appName(\"Colab\")\\\n",
        "        .config('spark.ui.port', '4050')\\\n",
        "        .getOrCreate()"
      ],
      "metadata": {
        "id": "D04uVzcWolf8"
      },
      "execution_count": null,
      "outputs": []
    },
    {
      "cell_type": "code",
      "source": [
        "type(spark)"
      ],
      "metadata": {
        "colab": {
          "base_uri": "https://localhost:8080/"
        },
        "id": "ylvH_dliouUA",
        "outputId": "90775bc5-2ba1-446e-f607-6d191cae0ba8"
      },
      "execution_count": null,
      "outputs": [
        {
          "output_type": "execute_result",
          "data": {
            "text/plain": [
              "pyspark.sql.session.SparkSession"
            ]
          },
          "metadata": {},
          "execution_count": 4
        }
      ]
    },
    {
      "cell_type": "code",
      "source": [
        "sc=spark.sparkContext"
      ],
      "metadata": {
        "id": "9zhI9zaFo-pa"
      },
      "execution_count": null,
      "outputs": []
    },
    {
      "cell_type": "code",
      "source": [
        "from google.colab import drive\n",
        "drive.mount('/content/drive')"
      ],
      "metadata": {
        "colab": {
          "base_uri": "https://localhost:8080/"
        },
        "id": "LrIX-HqLtPIp",
        "outputId": "14c2728d-e03e-481a-bf16-512a0c52f6a1"
      },
      "execution_count": null,
      "outputs": [
        {
          "output_type": "stream",
          "name": "stdout",
          "text": [
            "Mounted at /content/drive\n"
          ]
        }
      ]
    },
    {
      "cell_type": "markdown",
      "source": [
        "# Question-1(a)"
      ],
      "metadata": {
        "id": "RMPDIkvvBba8"
      }
    },
    {
      "cell_type": "markdown",
      "source": [
        "## From Table 3-2"
      ],
      "metadata": {
        "id": "8O4Q3EtjFllq"
      }
    },
    {
      "cell_type": "code",
      "source": [
        "#####  creating a RDD to process further\n",
        "nums = sc.parallelize([1, 2, 3, 4])"
      ],
      "metadata": {
        "id": "68bnAqj2BYxl"
      },
      "execution_count": null,
      "outputs": []
    },
    {
      "cell_type": "markdown",
      "source": [
        "### Using map()"
      ],
      "metadata": {
        "id": "4H557_e7DKQG"
      }
    },
    {
      "cell_type": "code",
      "source": [
        "#map() \n",
        "#Apply a function to each element in the RDD and return an RDD of the result.\n",
        "squared = nums.map(lambda  x : x**2)\n",
        "squared.collect()"
      ],
      "metadata": {
        "colab": {
          "base_uri": "https://localhost:8080/"
        },
        "id": "LhNAstGEBYvB",
        "outputId": "55f0809a-4fcc-426c-e3c5-56839680ee35"
      },
      "execution_count": null,
      "outputs": [
        {
          "output_type": "execute_result",
          "data": {
            "text/plain": [
              "[1, 4, 9, 16]"
            ]
          },
          "metadata": {},
          "execution_count": 8
        }
      ]
    },
    {
      "cell_type": "markdown",
      "source": [
        "### Using flatMap()"
      ],
      "metadata": {
        "id": "bfC2m8zoDZQb"
      }
    },
    {
      "cell_type": "code",
      "source": [
        "nums.flatMap(lambda x : x.to(3))"
      ],
      "metadata": {
        "colab": {
          "base_uri": "https://localhost:8080/"
        },
        "id": "ACKQjKmeBYsY",
        "outputId": "30256451-5afa-475d-f7ed-7b8854e7bfd1"
      },
      "execution_count": null,
      "outputs": [
        {
          "output_type": "execute_result",
          "data": {
            "text/plain": [
              "PythonRDD[2] at RDD at PythonRDD.scala:53"
            ]
          },
          "metadata": {},
          "execution_count": 9
        }
      ]
    },
    {
      "cell_type": "markdown",
      "source": [
        "### Using filter()"
      ],
      "metadata": {
        "id": "N-sRHSgdELFL"
      }
    },
    {
      "cell_type": "code",
      "source": [
        "nums.filter(lambda x : x == 1).collect()"
      ],
      "metadata": {
        "colab": {
          "base_uri": "https://localhost:8080/"
        },
        "id": "vZOmX6YSEiE1",
        "outputId": "8c4018ba-1dd3-485d-b2ec-acba5d3c16f8"
      },
      "execution_count": null,
      "outputs": [
        {
          "output_type": "execute_result",
          "data": {
            "text/plain": [
              "[1]"
            ]
          },
          "metadata": {},
          "execution_count": 10
        }
      ]
    },
    {
      "cell_type": "markdown",
      "source": [
        "### Using Distinct()"
      ],
      "metadata": {
        "id": "LPEAvBP4EOqG"
      }
    },
    {
      "cell_type": "code",
      "source": [
        "nums.distinct().collect()"
      ],
      "metadata": {
        "colab": {
          "base_uri": "https://localhost:8080/"
        },
        "id": "tmqfY_6_FKa-",
        "outputId": "0ebf4047-1bc8-4076-ed64-b3ec40e1d032"
      },
      "execution_count": null,
      "outputs": [
        {
          "output_type": "execute_result",
          "data": {
            "text/plain": [
              "[1, 2, 3, 4]"
            ]
          },
          "metadata": {},
          "execution_count": 11
        }
      ]
    },
    {
      "cell_type": "markdown",
      "source": [
        "### Using sample()"
      ],
      "metadata": {
        "id": "r1ydp8jkEU5O"
      }
    },
    {
      "cell_type": "code",
      "source": [
        "nums.sample(False, 0.5,1).collect()"
      ],
      "metadata": {
        "colab": {
          "base_uri": "https://localhost:8080/"
        },
        "id": "eAQZzd8bBYpt",
        "outputId": "9e575248-684b-43b6-fad1-7a94148a98ae"
      },
      "execution_count": null,
      "outputs": [
        {
          "output_type": "execute_result",
          "data": {
            "text/plain": [
              "[1, 3]"
            ]
          },
          "metadata": {},
          "execution_count": 12
        }
      ]
    },
    {
      "cell_type": "markdown",
      "source": [
        "## From Table 3-3"
      ],
      "metadata": {
        "id": "YmjrTcG5FqRA"
      }
    },
    {
      "cell_type": "code",
      "source": [
        "nums1 = sc.parallelize([1, 2, 3])\n",
        "nums2 = sc.parallelize([3, 4, 5])"
      ],
      "metadata": {
        "id": "nWGJHmO8BYm7"
      },
      "execution_count": null,
      "outputs": []
    },
    {
      "cell_type": "markdown",
      "source": [
        "### Using union()"
      ],
      "metadata": {
        "id": "wqtFBTxjGrvs"
      }
    },
    {
      "cell_type": "code",
      "source": [
        "nums1.union(nums2).collect()"
      ],
      "metadata": {
        "colab": {
          "base_uri": "https://localhost:8080/"
        },
        "id": "At4LTX9KBYkK",
        "outputId": "0aeedfc8-5e1d-4b1a-dd46-eec1035c7612"
      },
      "execution_count": null,
      "outputs": [
        {
          "output_type": "execute_result",
          "data": {
            "text/plain": [
              "[1, 2, 3, 3, 4, 5]"
            ]
          },
          "metadata": {},
          "execution_count": 14
        }
      ]
    },
    {
      "cell_type": "markdown",
      "source": [
        "### Using intersection()"
      ],
      "metadata": {
        "id": "N8kWQ2kLGv4-"
      }
    },
    {
      "cell_type": "code",
      "source": [
        "nums1.intersection(nums2).collect()"
      ],
      "metadata": {
        "colab": {
          "base_uri": "https://localhost:8080/"
        },
        "id": "0asMWKhzBYhY",
        "outputId": "68650d0f-ba6c-42e9-cf97-be1569f60f32"
      },
      "execution_count": null,
      "outputs": [
        {
          "output_type": "execute_result",
          "data": {
            "text/plain": [
              "[3]"
            ]
          },
          "metadata": {},
          "execution_count": 15
        }
      ]
    },
    {
      "cell_type": "markdown",
      "source": [
        "### Using subtract()"
      ],
      "metadata": {
        "id": "Q4TXnqw9G_Pd"
      }
    },
    {
      "cell_type": "code",
      "source": [
        "nums1.subtract(nums2).collect()"
      ],
      "metadata": {
        "colab": {
          "base_uri": "https://localhost:8080/"
        },
        "id": "34rDG3K-BYex",
        "outputId": "9fd78861-e564-457f-eadd-bad5f42cc9bb"
      },
      "execution_count": null,
      "outputs": [
        {
          "output_type": "execute_result",
          "data": {
            "text/plain": [
              "[2, 1]"
            ]
          },
          "metadata": {},
          "execution_count": 16
        }
      ]
    },
    {
      "cell_type": "markdown",
      "source": [
        "### Using cartesian()"
      ],
      "metadata": {
        "id": "pdDmPSBSHO9z"
      }
    },
    {
      "cell_type": "code",
      "source": [
        "nums1.cartesian(nums2).collect()"
      ],
      "metadata": {
        "colab": {
          "base_uri": "https://localhost:8080/"
        },
        "id": "NgDzpHZEBYcK",
        "outputId": "53ecdf13-ced6-48be-b056-ea2c86b49b89"
      },
      "execution_count": null,
      "outputs": [
        {
          "output_type": "execute_result",
          "data": {
            "text/plain": [
              "[(1, 3), (1, 4), (1, 5), (2, 3), (2, 4), (2, 5), (3, 3), (3, 4), (3, 5)]"
            ]
          },
          "metadata": {},
          "execution_count": 17
        }
      ]
    },
    {
      "cell_type": "markdown",
      "source": [
        "## From Table 3-4"
      ],
      "metadata": {
        "id": "ajDpbqu1HYo4"
      }
    },
    {
      "cell_type": "markdown",
      "source": [
        "### Using collect()"
      ],
      "metadata": {
        "id": "6ElX5_mKDX3s"
      }
    },
    {
      "cell_type": "code",
      "source": [
        "basicRDD = sc.parallelize([1, 2, 3, 3])"
      ],
      "metadata": {
        "id": "GO11fsNhBYZD"
      },
      "execution_count": null,
      "outputs": []
    },
    {
      "cell_type": "code",
      "source": [
        "basicRDD.collect()"
      ],
      "metadata": {
        "colab": {
          "base_uri": "https://localhost:8080/"
        },
        "id": "uRIcibvuBYWJ",
        "outputId": "ea50cd55-720f-46fa-9d75-9c9b3ff6ee3f"
      },
      "execution_count": null,
      "outputs": [
        {
          "output_type": "execute_result",
          "data": {
            "text/plain": [
              "[1, 2, 3, 3]"
            ]
          },
          "metadata": {},
          "execution_count": 19
        }
      ]
    },
    {
      "cell_type": "markdown",
      "source": [
        "### Using count()"
      ],
      "metadata": {
        "id": "o23sXUudEbFY"
      }
    },
    {
      "cell_type": "code",
      "source": [
        "basicRDD.count()"
      ],
      "metadata": {
        "colab": {
          "base_uri": "https://localhost:8080/"
        },
        "id": "JFMzIni2FLfS",
        "outputId": "f0d30745-775d-4b8d-fbd7-77d3f40a6625"
      },
      "execution_count": null,
      "outputs": [
        {
          "output_type": "execute_result",
          "data": {
            "text/plain": [
              "4"
            ]
          },
          "metadata": {},
          "execution_count": 20
        }
      ]
    },
    {
      "cell_type": "markdown",
      "source": [
        "### Using countByValue()"
      ],
      "metadata": {
        "id": "59wEqw5KEfQP"
      }
    },
    {
      "cell_type": "code",
      "source": [
        "basicRDD.countByValue()"
      ],
      "metadata": {
        "colab": {
          "base_uri": "https://localhost:8080/"
        },
        "id": "AakEBslEFUn4",
        "outputId": "9b7cd0aa-dfbb-46f5-e01e-5caa1f99d751"
      },
      "execution_count": null,
      "outputs": [
        {
          "output_type": "execute_result",
          "data": {
            "text/plain": [
              "defaultdict(int, {1: 1, 2: 1, 3: 2})"
            ]
          },
          "metadata": {},
          "execution_count": 21
        }
      ]
    },
    {
      "cell_type": "markdown",
      "source": [
        "### Using take()"
      ],
      "metadata": {
        "id": "iOUseFjfEfN4"
      }
    },
    {
      "cell_type": "code",
      "source": [
        "basicRDD.take(3)"
      ],
      "metadata": {
        "colab": {
          "base_uri": "https://localhost:8080/"
        },
        "id": "-LJ-GXsRFZBJ",
        "outputId": "c83c0ca4-ebd5-4e28-a894-db5c15899b77"
      },
      "execution_count": null,
      "outputs": [
        {
          "output_type": "execute_result",
          "data": {
            "text/plain": [
              "[1, 2, 3]"
            ]
          },
          "metadata": {},
          "execution_count": 22
        }
      ]
    },
    {
      "cell_type": "markdown",
      "source": [
        "### Using top()"
      ],
      "metadata": {
        "id": "6GB0I_2XEfLF"
      }
    },
    {
      "cell_type": "code",
      "source": [
        "basicRDD.top(2)"
      ],
      "metadata": {
        "colab": {
          "base_uri": "https://localhost:8080/"
        },
        "id": "wfTNaBTUFd_o",
        "outputId": "6c250062-6c8d-4828-8559-aefc29ec0d32"
      },
      "execution_count": null,
      "outputs": [
        {
          "output_type": "execute_result",
          "data": {
            "text/plain": [
              "[3, 3]"
            ]
          },
          "metadata": {},
          "execution_count": 23
        }
      ]
    },
    {
      "cell_type": "markdown",
      "source": [
        "### Using takeOrdered()"
      ],
      "metadata": {
        "id": "iS0uhPQrEfIc"
      }
    },
    {
      "cell_type": "code",
      "source": [
        "basicRDD.takeOrdered(3)"
      ],
      "metadata": {
        "colab": {
          "base_uri": "https://localhost:8080/"
        },
        "id": "cF_5YDfwFmfD",
        "outputId": "d9fdde27-9e95-4c31-f899-218ad56090e5"
      },
      "execution_count": null,
      "outputs": [
        {
          "output_type": "execute_result",
          "data": {
            "text/plain": [
              "[1, 2, 3]"
            ]
          },
          "metadata": {},
          "execution_count": 24
        }
      ]
    },
    {
      "cell_type": "markdown",
      "source": [
        "### Using takeSample()"
      ],
      "metadata": {
        "id": "B961NKDjEfFw"
      }
    },
    {
      "cell_type": "code",
      "source": [
        "basicRDD.takeSample(False, 2)"
      ],
      "metadata": {
        "colab": {
          "base_uri": "https://localhost:8080/"
        },
        "id": "xGosVNhFFr49",
        "outputId": "e1b781c6-0ce1-413a-aed2-90ebb4e34c64"
      },
      "execution_count": null,
      "outputs": [
        {
          "output_type": "execute_result",
          "data": {
            "text/plain": [
              "[3, 1]"
            ]
          },
          "metadata": {},
          "execution_count": 25
        }
      ]
    },
    {
      "cell_type": "markdown",
      "source": [
        "### Using reduce()"
      ],
      "metadata": {
        "id": "in318BWUE6AO"
      }
    },
    {
      "cell_type": "code",
      "source": [
        "basicRDD.reduce(lambda x, y: x+y)"
      ],
      "metadata": {
        "colab": {
          "base_uri": "https://localhost:8080/"
        },
        "id": "XDl1KgD1F1jc",
        "outputId": "ad65a85a-4c5d-4947-d3ff-c930f0aefbf6"
      },
      "execution_count": null,
      "outputs": [
        {
          "output_type": "execute_result",
          "data": {
            "text/plain": [
              "9"
            ]
          },
          "metadata": {},
          "execution_count": 30
        }
      ]
    },
    {
      "cell_type": "markdown",
      "source": [
        "### Using fold()"
      ],
      "metadata": {
        "id": "UPjTXvNZE59p"
      }
    },
    {
      "cell_type": "code",
      "source": [
        "basicRDD.fold(0, lambda x, y :  x+y) "
      ],
      "metadata": {
        "colab": {
          "base_uri": "https://localhost:8080/"
        },
        "id": "ErY1T-ScGHU2",
        "outputId": "13f8dbd5-1e65-4dd2-a844-4efb578e8b12"
      },
      "execution_count": null,
      "outputs": [
        {
          "output_type": "execute_result",
          "data": {
            "text/plain": [
              "9"
            ]
          },
          "metadata": {},
          "execution_count": 32
        }
      ]
    },
    {
      "cell_type": "markdown",
      "source": [
        "### Using aggregate()"
      ],
      "metadata": {
        "id": "fikQHuLKE57F"
      }
    },
    {
      "cell_type": "code",
      "source": [
        "print(basicRDD.aggregate((0, 0) , (lambda  x, y :  (x[0] + y, x[1] + 1)),  (lambda  x, y : (x[0] + y[0], x[1] + y[1]))))"
      ],
      "metadata": {
        "colab": {
          "base_uri": "https://localhost:8080/"
        },
        "id": "iFh7aXF6GOsf",
        "outputId": "869280d2-cd3c-4369-9a04-92571e0cc625"
      },
      "execution_count": null,
      "outputs": [
        {
          "output_type": "stream",
          "name": "stdout",
          "text": [
            "(9, 4)\n"
          ]
        }
      ]
    },
    {
      "cell_type": "markdown",
      "source": [
        "### Using foreach()"
      ],
      "metadata": {
        "id": "4aqDcBj4E540"
      }
    },
    {
      "cell_type": "code",
      "source": [
        "def my_print(x):\n",
        "  print(x+1)\n",
        "\n",
        "basicRDD.foreach(my_print)"
      ],
      "metadata": {
        "id": "unk2MDpHBYQy"
      },
      "execution_count": null,
      "outputs": []
    },
    {
      "cell_type": "markdown",
      "source": [
        "# Question-1(b)"
      ],
      "metadata": {
        "id": "IqHvaL73HGRw"
      }
    },
    {
      "cell_type": "code",
      "source": [
        "from pyspark.storagelevel import StorageLevel\n",
        "\n",
        "result = basicRDD.map(lambda x : x * x)\n",
        "result.persist(StorageLevel.DISK_ONLY)\n",
        "\n",
        "print(result.collect())\n",
        "print(result.count())"
      ],
      "metadata": {
        "id": "PEN3QpYbBYOK",
        "colab": {
          "base_uri": "https://localhost:8080/"
        },
        "outputId": "e51ea890-5f75-4a5d-9cbd-6aa56f132049"
      },
      "execution_count": null,
      "outputs": [
        {
          "output_type": "stream",
          "name": "stdout",
          "text": [
            "[1, 4, 9, 9]\n",
            "4\n"
          ]
        }
      ]
    },
    {
      "cell_type": "markdown",
      "source": [
        "# Question-2"
      ],
      "metadata": {
        "id": "lgqw_EcsIbk2"
      }
    },
    {
      "cell_type": "markdown",
      "source": [
        "## Implementing Page Rank algorithm on Spark-shell"
      ],
      "metadata": {
        "id": "Kg6e6B82PmHz"
      }
    },
    {
      "cell_type": "code",
      "source": [
        "##### The screenshot regarding the page rank problem is added in the next page."
      ],
      "metadata": {
        "id": "FUwhbT1dQh6T"
      },
      "execution_count": null,
      "outputs": []
    },
    {
      "cell_type": "code",
      "source": [
        ""
      ],
      "metadata": {
        "id": "IS5rHDaRQ_W2"
      },
      "execution_count": null,
      "outputs": []
    },
    {
      "cell_type": "code",
      "source": [
        ""
      ],
      "metadata": {
        "id": "rOa83vOeQ_UP"
      },
      "execution_count": null,
      "outputs": []
    },
    {
      "cell_type": "code",
      "source": [
        ""
      ],
      "metadata": {
        "id": "caZQVPoKQ_Rr"
      },
      "execution_count": null,
      "outputs": []
    },
    {
      "cell_type": "code",
      "source": [
        ""
      ],
      "metadata": {
        "id": "5vdO-K2PQ_PG"
      },
      "execution_count": null,
      "outputs": []
    },
    {
      "cell_type": "code",
      "source": [
        ""
      ],
      "metadata": {
        "id": "fxMj9GtJQ_Me"
      },
      "execution_count": null,
      "outputs": []
    },
    {
      "cell_type": "code",
      "source": [
        ""
      ],
      "metadata": {
        "id": "ldNOMEtnQ_Jn"
      },
      "execution_count": null,
      "outputs": []
    },
    {
      "cell_type": "code",
      "source": [
        ""
      ],
      "metadata": {
        "id": "zy19Y2gGQ_HR"
      },
      "execution_count": null,
      "outputs": []
    },
    {
      "cell_type": "code",
      "source": [
        ""
      ],
      "metadata": {
        "id": "QofjSe3iQ_FG"
      },
      "execution_count": null,
      "outputs": []
    },
    {
      "cell_type": "code",
      "source": [
        ""
      ],
      "metadata": {
        "id": "7gL0t7t9Qhok"
      },
      "execution_count": null,
      "outputs": []
    },
    {
      "cell_type": "markdown",
      "source": [
        "# Question-3(a)"
      ],
      "metadata": {
        "id": "nQgva1i_rDBH"
      }
    },
    {
      "cell_type": "markdown",
      "source": [
        "## Importing Dataset"
      ],
      "metadata": {
        "id": "tkeov5NLvb5P"
      }
    },
    {
      "cell_type": "code",
      "source": [
        "# in Python\n",
        "sales = spark.read.format(\"csv\").option(\"header\", \"true\").option(\"inferSchema\", \"true\").load(\"/content/drive/MyDrive/Spark-The-Definitive-Guide-master/data/retail-data/by-day/*.csv\").coalesce(5).where(\"Description IS NOT NULL\")\n",
        "fakeIntDF = spark.read.parquet(\"/content/drive/MyDrive/Spark-The-Definitive-Guide-master/data/simple-ml-integers\")\n",
        "simpleDF = spark.read.json(\"/content/drive/MyDrive/Spark-The-Definitive-Guide-master/data/simple-ml\")\n",
        "scaleDF = spark.read.parquet(\"/content/drive/MyDrive/Spark-The-Definitive-Guide-master/data/simple-ml-scaling\")"
      ],
      "metadata": {
        "id": "rI-diRoDrFKR"
      },
      "execution_count": null,
      "outputs": []
    },
    {
      "cell_type": "code",
      "source": [
        "sales.cache()\n",
        "sales.show()"
      ],
      "metadata": {
        "id": "OQpHZP3Ds3c2",
        "colab": {
          "base_uri": "https://localhost:8080/"
        },
        "outputId": "aecab522-940e-479f-d485-85487db2f7ef"
      },
      "execution_count": null,
      "outputs": [
        {
          "output_type": "stream",
          "name": "stdout",
          "text": [
            "+---------+---------+--------------------+--------+-------------------+---------+----------+--------------+\n",
            "|InvoiceNo|StockCode|         Description|Quantity|        InvoiceDate|UnitPrice|CustomerID|       Country|\n",
            "+---------+---------+--------------------+--------+-------------------+---------+----------+--------------+\n",
            "|   580538|    23084|  RABBIT NIGHT LIGHT|      48|2011-12-05 08:38:00|     1.79|   14075.0|United Kingdom|\n",
            "|   580538|    23077| DOUGHNUT LIP GLOSS |      20|2011-12-05 08:38:00|     1.25|   14075.0|United Kingdom|\n",
            "|   580538|    22906|12 MESSAGE CARDS ...|      24|2011-12-05 08:38:00|     1.65|   14075.0|United Kingdom|\n",
            "|   580538|    21914|BLUE HARMONICA IN...|      24|2011-12-05 08:38:00|     1.25|   14075.0|United Kingdom|\n",
            "|   580538|    22467|   GUMBALL COAT RACK|       6|2011-12-05 08:38:00|     2.55|   14075.0|United Kingdom|\n",
            "|   580538|    21544|SKULLS  WATER TRA...|      48|2011-12-05 08:38:00|     0.85|   14075.0|United Kingdom|\n",
            "|   580538|    23126|FELTCRAFT GIRL AM...|       8|2011-12-05 08:38:00|     4.95|   14075.0|United Kingdom|\n",
            "|   580538|    21833|CAMOUFLAGE LED TORCH|      24|2011-12-05 08:38:00|     1.69|   14075.0|United Kingdom|\n",
            "|   580539|    21479|WHITE SKULL HOT W...|       4|2011-12-05 08:39:00|     4.25|   18180.0|United Kingdom|\n",
            "|   580539|   84030E|ENGLISH ROSE HOT ...|       4|2011-12-05 08:39:00|     4.25|   18180.0|United Kingdom|\n",
            "|   580539|    23355|HOT WATER BOTTLE ...|       4|2011-12-05 08:39:00|     4.95|   18180.0|United Kingdom|\n",
            "|   580539|    22111|SCOTTIE DOG HOT W...|       3|2011-12-05 08:39:00|     4.95|   18180.0|United Kingdom|\n",
            "|   580539|    21115|ROSE CARAVAN DOOR...|       8|2011-12-05 08:39:00|     1.95|   18180.0|United Kingdom|\n",
            "|   580539|    21411|GINGHAM HEART  DO...|       8|2011-12-05 08:39:00|     1.95|   18180.0|United Kingdom|\n",
            "|   580539|    23235|STORAGE TIN VINTA...|      12|2011-12-05 08:39:00|     1.25|   18180.0|United Kingdom|\n",
            "|   580539|    23239|SET OF 4 KNICK KN...|       6|2011-12-05 08:39:00|     1.65|   18180.0|United Kingdom|\n",
            "|   580539|    22197|      POPCORN HOLDER|      36|2011-12-05 08:39:00|     0.85|   18180.0|United Kingdom|\n",
            "|   580539|    22693|GROW A FLYTRAP OR...|      24|2011-12-05 08:39:00|     1.25|   18180.0|United Kingdom|\n",
            "|   580539|    22372|AIRLINE BAG VINTA...|       4|2011-12-05 08:39:00|     4.25|   18180.0|United Kingdom|\n",
            "|   580539|    22375|AIRLINE BAG VINTA...|       4|2011-12-05 08:39:00|     4.25|   18180.0|United Kingdom|\n",
            "+---------+---------+--------------------+--------+-------------------+---------+----------+--------------+\n",
            "only showing top 20 rows\n",
            "\n"
          ]
        }
      ]
    },
    {
      "cell_type": "markdown",
      "source": [
        "## A.) Using StandardScaler"
      ],
      "metadata": {
        "id": "rkiZFTanvhBc"
      }
    },
    {
      "cell_type": "code",
      "source": [
        "from pyspark.ml.feature import StandardScaler\n",
        "\n",
        "sScaler = StandardScaler().setInputCol(\"features\")\n",
        "sScaler.fit(scaleDF).transform(scaleDF).show()"
      ],
      "metadata": {
        "colab": {
          "base_uri": "https://localhost:8080/"
        },
        "id": "ZmPEBnoHt4kC",
        "outputId": "7bff4f17-468d-4130-e23d-366e86f531a8"
      },
      "execution_count": null,
      "outputs": [
        {
          "output_type": "stream",
          "name": "stdout",
          "text": [
            "+---+--------------+-----------------------------------+\n",
            "| id|      features|StandardScaler_e63c4ca325e1__output|\n",
            "+---+--------------+-----------------------------------+\n",
            "|  0|[1.0,0.1,-1.0]|               [1.19522860933439...|\n",
            "|  1| [2.0,1.1,1.0]|               [2.39045721866878...|\n",
            "|  0|[1.0,0.1,-1.0]|               [1.19522860933439...|\n",
            "|  1| [2.0,1.1,1.0]|               [2.39045721866878...|\n",
            "|  1|[3.0,10.1,3.0]|               [3.58568582800318...|\n",
            "+---+--------------+-----------------------------------+\n",
            "\n"
          ]
        }
      ]
    },
    {
      "cell_type": "markdown",
      "source": [
        "## B.) Using MinMaxScaler"
      ],
      "metadata": {
        "id": "Uad-Q4ybv6ay"
      }
    },
    {
      "cell_type": "code",
      "source": [
        "from pyspark.ml.feature import MinMaxScaler\n",
        "\n",
        "minMax = MinMaxScaler().setMin(5).setMax(10).setInputCol(\"features\")\n",
        "fittedminMax = minMax.fit(scaleDF)\n",
        "fittedminMax.transform(scaleDF).show()"
      ],
      "metadata": {
        "colab": {
          "base_uri": "https://localhost:8080/"
        },
        "id": "SiuaihNqt4hu",
        "outputId": "0d3096f2-f1c7-4d90-cb6d-2bb292b367a0"
      },
      "execution_count": null,
      "outputs": [
        {
          "output_type": "stream",
          "name": "stdout",
          "text": [
            "+---+--------------+---------------------------------+\n",
            "| id|      features|MinMaxScaler_7bc11441f185__output|\n",
            "+---+--------------+---------------------------------+\n",
            "|  0|[1.0,0.1,-1.0]|                    [5.0,5.0,5.0]|\n",
            "|  1| [2.0,1.1,1.0]|                    [7.5,5.5,7.5]|\n",
            "|  0|[1.0,0.1,-1.0]|                    [5.0,5.0,5.0]|\n",
            "|  1| [2.0,1.1,1.0]|                    [7.5,5.5,7.5]|\n",
            "|  1|[3.0,10.1,3.0]|                 [10.0,10.0,10.0]|\n",
            "+---+--------------+---------------------------------+\n",
            "\n"
          ]
        }
      ]
    },
    {
      "cell_type": "markdown",
      "source": [
        "## C.) MaxAbsScaler"
      ],
      "metadata": {
        "id": "3bqTm_I-wh19"
      }
    },
    {
      "cell_type": "code",
      "source": [
        "from pyspark.ml.feature import MaxAbsScaler\n",
        "\n",
        "maScaler = MaxAbsScaler().setInputCol(\"features\")\n",
        "fittedmaScaler = maScaler.fit(scaleDF)\n",
        "fittedmaScaler.transform(scaleDF).show()"
      ],
      "metadata": {
        "colab": {
          "base_uri": "https://localhost:8080/"
        },
        "id": "2Fiv_xIjxHPs",
        "outputId": "77144ba7-be82-4ce1-da48-f6b45ee4a25b"
      },
      "execution_count": null,
      "outputs": [
        {
          "output_type": "stream",
          "name": "stdout",
          "text": [
            "+---+--------------+---------------------------------+\n",
            "| id|      features|MaxAbsScaler_756c5bb55422__output|\n",
            "+---+--------------+---------------------------------+\n",
            "|  0|[1.0,0.1,-1.0]|             [0.33333333333333...|\n",
            "|  1| [2.0,1.1,1.0]|             [0.66666666666666...|\n",
            "|  0|[1.0,0.1,-1.0]|             [0.33333333333333...|\n",
            "|  1| [2.0,1.1,1.0]|             [0.66666666666666...|\n",
            "|  1|[3.0,10.1,3.0]|                    [1.0,1.0,1.0]|\n",
            "+---+--------------+---------------------------------+\n",
            "\n"
          ]
        }
      ]
    },
    {
      "cell_type": "markdown",
      "source": [
        "## D.) Elementwise-Product"
      ],
      "metadata": {
        "id": "CZIzUzngwr0C"
      }
    },
    {
      "cell_type": "code",
      "source": [
        "from pyspark.ml.feature import ElementwiseProduct\n",
        "from pyspark.ml.linalg import Vectors\n",
        "\n",
        "scaleUpVec = Vectors.dense(10.0, 15.0, 20.0)\n",
        "scalingUp = ElementwiseProduct().setScalingVec(scaleUpVec).setInputCol(\"features\")\n",
        "scalingUp.transform(scaleDF).show()"
      ],
      "metadata": {
        "colab": {
          "base_uri": "https://localhost:8080/"
        },
        "id": "chOtp4ivxThZ",
        "outputId": "049f561f-529b-4c07-f341-9b86e5435def"
      },
      "execution_count": null,
      "outputs": [
        {
          "output_type": "stream",
          "name": "stdout",
          "text": [
            "+---+--------------+---------------------------------------+\n",
            "| id|      features|ElementwiseProduct_46832125aaa3__output|\n",
            "+---+--------------+---------------------------------------+\n",
            "|  0|[1.0,0.1,-1.0]|                       [10.0,1.5,-20.0]|\n",
            "|  1| [2.0,1.1,1.0]|                       [20.0,16.5,20.0]|\n",
            "|  0|[1.0,0.1,-1.0]|                       [10.0,1.5,-20.0]|\n",
            "|  1| [2.0,1.1,1.0]|                       [20.0,16.5,20.0]|\n",
            "|  1|[3.0,10.1,3.0]|                      [30.0,151.5,60.0]|\n",
            "+---+--------------+---------------------------------------+\n",
            "\n"
          ]
        }
      ]
    },
    {
      "cell_type": "markdown",
      "source": [
        "## E.) Normalizer"
      ],
      "metadata": {
        "id": "9vui9C1Pw2kq"
      }
    },
    {
      "cell_type": "code",
      "source": [
        "from pyspark.ml.feature import Normalizer\n",
        "\n",
        "manhattanDistance = Normalizer().setP(1).setInputCol(\"features\")\n",
        "manhattanDistance.transform(scaleDF).show()"
      ],
      "metadata": {
        "colab": {
          "base_uri": "https://localhost:8080/"
        },
        "id": "q7UxrdJht4ci",
        "outputId": "eaba3766-3bdb-4a90-f214-84c5d6a3160f"
      },
      "execution_count": null,
      "outputs": [
        {
          "output_type": "stream",
          "name": "stdout",
          "text": [
            "+---+--------------+-------------------------------+\n",
            "| id|      features|Normalizer_8d0ba3515a2a__output|\n",
            "+---+--------------+-------------------------------+\n",
            "|  0|[1.0,0.1,-1.0]|           [0.47619047619047...|\n",
            "|  1| [2.0,1.1,1.0]|           [0.48780487804878...|\n",
            "|  0|[1.0,0.1,-1.0]|           [0.47619047619047...|\n",
            "|  1| [2.0,1.1,1.0]|           [0.48780487804878...|\n",
            "|  1|[3.0,10.1,3.0]|           [0.18633540372670...|\n",
            "+---+--------------+-------------------------------+\n",
            "\n"
          ]
        }
      ]
    },
    {
      "cell_type": "markdown",
      "source": [
        "# Question-3(b)"
      ],
      "metadata": {
        "id": "6Qc0JvBex0CO"
      }
    },
    {
      "cell_type": "markdown",
      "source": [
        "## A.) Tokenizing Text Before Processing"
      ],
      "metadata": {
        "id": "CGkqss2ozQAA"
      }
    },
    {
      "cell_type": "code",
      "source": [
        "from pyspark.ml.feature import Tokenizer\n",
        "\n",
        "tkn = Tokenizer().setInputCol(\"Description\").setOutputCol(\"DescOut\")\n",
        "tokenized = tkn.transform(sales.select(\"Description\"))\n",
        "tokenized.show(20, False)"
      ],
      "metadata": {
        "colab": {
          "base_uri": "https://localhost:8080/"
        },
        "id": "ev18_0trt4Z4",
        "outputId": "837beeb2-a9aa-44bc-b12a-d4b98019db94"
      },
      "execution_count": null,
      "outputs": [
        {
          "output_type": "stream",
          "name": "stdout",
          "text": [
            "+-----------------------------------+------------------------------------------+\n",
            "|Description                        |DescOut                                   |\n",
            "+-----------------------------------+------------------------------------------+\n",
            "|RABBIT NIGHT LIGHT                 |[rabbit, night, light]                    |\n",
            "|DOUGHNUT LIP GLOSS                 |[doughnut, lip, gloss]                    |\n",
            "|12 MESSAGE CARDS WITH ENVELOPES    |[12, message, cards, with, envelopes]     |\n",
            "|BLUE HARMONICA IN BOX              |[blue, harmonica, in, box]                |\n",
            "|GUMBALL COAT RACK                  |[gumball, coat, rack]                     |\n",
            "|SKULLS  WATER TRANSFER TATTOOS     |[skulls, , water, transfer, tattoos]      |\n",
            "|FELTCRAFT GIRL AMELIE KIT          |[feltcraft, girl, amelie, kit]            |\n",
            "|CAMOUFLAGE LED TORCH               |[camouflage, led, torch]                  |\n",
            "|WHITE SKULL HOT WATER BOTTLE       |[white, skull, hot, water, bottle]        |\n",
            "|ENGLISH ROSE HOT WATER BOTTLE      |[english, rose, hot, water, bottle]       |\n",
            "|HOT WATER BOTTLE KEEP CALM         |[hot, water, bottle, keep, calm]          |\n",
            "|SCOTTIE DOG HOT WATER BOTTLE       |[scottie, dog, hot, water, bottle]        |\n",
            "|ROSE CARAVAN DOORSTOP              |[rose, caravan, doorstop]                 |\n",
            "|GINGHAM HEART  DOORSTOP RED        |[gingham, heart, , doorstop, red]         |\n",
            "|STORAGE TIN VINTAGE LEAF           |[storage, tin, vintage, leaf]             |\n",
            "|SET OF 4 KNICK KNACK TINS POPPIES  |[set, of, 4, knick, knack, tins, poppies] |\n",
            "|POPCORN HOLDER                     |[popcorn, holder]                         |\n",
            "|GROW A FLYTRAP OR SUNFLOWER IN TIN |[grow, a, flytrap, or, sunflower, in, tin]|\n",
            "|AIRLINE BAG VINTAGE WORLD CHAMPION |[airline, bag, vintage, world, champion]  |\n",
            "|AIRLINE BAG VINTAGE JET SET BROWN  |[airline, bag, vintage, jet, set, brown]  |\n",
            "+-----------------------------------+------------------------------------------+\n",
            "only showing top 20 rows\n",
            "\n"
          ]
        }
      ]
    },
    {
      "cell_type": "code",
      "source": [
        "from pyspark.ml.feature import RegexTokenizer\n",
        "\n",
        "rt = RegexTokenizer().setInputCol(\"Description\").setOutputCol(\"DescOut\").setPattern(\" \").setToLowercase(True)\n",
        "rt.transform(sales.select(\"Description\")).show(20, False)"
      ],
      "metadata": {
        "colab": {
          "base_uri": "https://localhost:8080/"
        },
        "id": "Zn79Fswqt4XT",
        "outputId": "f2b946bc-f3d2-4e97-d56b-80804345bf6c"
      },
      "execution_count": null,
      "outputs": [
        {
          "output_type": "stream",
          "name": "stdout",
          "text": [
            "+-----------------------------------+------------------------------------------+\n",
            "|Description                        |DescOut                                   |\n",
            "+-----------------------------------+------------------------------------------+\n",
            "|RABBIT NIGHT LIGHT                 |[rabbit, night, light]                    |\n",
            "|DOUGHNUT LIP GLOSS                 |[doughnut, lip, gloss]                    |\n",
            "|12 MESSAGE CARDS WITH ENVELOPES    |[12, message, cards, with, envelopes]     |\n",
            "|BLUE HARMONICA IN BOX              |[blue, harmonica, in, box]                |\n",
            "|GUMBALL COAT RACK                  |[gumball, coat, rack]                     |\n",
            "|SKULLS  WATER TRANSFER TATTOOS     |[skulls, water, transfer, tattoos]        |\n",
            "|FELTCRAFT GIRL AMELIE KIT          |[feltcraft, girl, amelie, kit]            |\n",
            "|CAMOUFLAGE LED TORCH               |[camouflage, led, torch]                  |\n",
            "|WHITE SKULL HOT WATER BOTTLE       |[white, skull, hot, water, bottle]        |\n",
            "|ENGLISH ROSE HOT WATER BOTTLE      |[english, rose, hot, water, bottle]       |\n",
            "|HOT WATER BOTTLE KEEP CALM         |[hot, water, bottle, keep, calm]          |\n",
            "|SCOTTIE DOG HOT WATER BOTTLE       |[scottie, dog, hot, water, bottle]        |\n",
            "|ROSE CARAVAN DOORSTOP              |[rose, caravan, doorstop]                 |\n",
            "|GINGHAM HEART  DOORSTOP RED        |[gingham, heart, doorstop, red]           |\n",
            "|STORAGE TIN VINTAGE LEAF           |[storage, tin, vintage, leaf]             |\n",
            "|SET OF 4 KNICK KNACK TINS POPPIES  |[set, of, 4, knick, knack, tins, poppies] |\n",
            "|POPCORN HOLDER                     |[popcorn, holder]                         |\n",
            "|GROW A FLYTRAP OR SUNFLOWER IN TIN |[grow, a, flytrap, or, sunflower, in, tin]|\n",
            "|AIRLINE BAG VINTAGE WORLD CHAMPION |[airline, bag, vintage, world, champion]  |\n",
            "|AIRLINE BAG VINTAGE JET SET BROWN  |[airline, bag, vintage, jet, set, brown]  |\n",
            "+-----------------------------------+------------------------------------------+\n",
            "only showing top 20 rows\n",
            "\n"
          ]
        }
      ]
    },
    {
      "cell_type": "code",
      "source": [
        "# in Python\n",
        "from pyspark.ml.feature import RegexTokenizer\n",
        "rt = RegexTokenizer()\\\n",
        ".setInputCol(\"Description\")\\\n",
        ".setOutputCol(\"DescOut\")\\\n",
        ".setPattern(\" \")\\\n",
        ".setGaps(False)\\\n",
        ".setToLowercase(True)\n",
        "rt.transform(sales.select(\"Description\")).show(20, False)"
      ],
      "metadata": {
        "colab": {
          "base_uri": "https://localhost:8080/"
        },
        "id": "gGub4OvF0N_z",
        "outputId": "d3f63b18-9065-414f-f6b0-e1f1e7828e86"
      },
      "execution_count": null,
      "outputs": [
        {
          "output_type": "stream",
          "name": "stdout",
          "text": [
            "+-----------------------------------+------------------+\n",
            "|Description                        |DescOut           |\n",
            "+-----------------------------------+------------------+\n",
            "|RABBIT NIGHT LIGHT                 |[ ,  ]            |\n",
            "|DOUGHNUT LIP GLOSS                 |[ ,  ,  ]         |\n",
            "|12 MESSAGE CARDS WITH ENVELOPES    |[ ,  ,  ,  ]      |\n",
            "|BLUE HARMONICA IN BOX              |[ ,  ,  ,  ]      |\n",
            "|GUMBALL COAT RACK                  |[ ,  ]            |\n",
            "|SKULLS  WATER TRANSFER TATTOOS     |[ ,  ,  ,  ,  ]   |\n",
            "|FELTCRAFT GIRL AMELIE KIT          |[ ,  ,  ]         |\n",
            "|CAMOUFLAGE LED TORCH               |[ ,  ]            |\n",
            "|WHITE SKULL HOT WATER BOTTLE       |[ ,  ,  ,  ,  ]   |\n",
            "|ENGLISH ROSE HOT WATER BOTTLE      |[ ,  ,  ,  ]      |\n",
            "|HOT WATER BOTTLE KEEP CALM         |[ ,  ,  ,  ]      |\n",
            "|SCOTTIE DOG HOT WATER BOTTLE       |[ ,  ,  ,  ]      |\n",
            "|ROSE CARAVAN DOORSTOP              |[ ,  ]            |\n",
            "|GINGHAM HEART  DOORSTOP RED        |[ ,  ,  ,  ]      |\n",
            "|STORAGE TIN VINTAGE LEAF           |[ ,  ,  ]         |\n",
            "|SET OF 4 KNICK KNACK TINS POPPIES  |[ ,  ,  ,  ,  ,  ]|\n",
            "|POPCORN HOLDER                     |[ ]               |\n",
            "|GROW A FLYTRAP OR SUNFLOWER IN TIN |[ ,  ,  ,  ,  ,  ]|\n",
            "|AIRLINE BAG VINTAGE WORLD CHAMPION |[ ,  ,  ,  ,  ]   |\n",
            "|AIRLINE BAG VINTAGE JET SET BROWN  |[ ,  ,  ,  ,  ]   |\n",
            "+-----------------------------------+------------------+\n",
            "only showing top 20 rows\n",
            "\n"
          ]
        }
      ]
    },
    {
      "cell_type": "markdown",
      "source": [
        "## B.) Removing Common Words"
      ],
      "metadata": {
        "id": "0POg_ceU0ld8"
      }
    },
    {
      "cell_type": "code",
      "source": [
        "from pyspark.ml.feature import StopWordsRemover\n",
        "\n",
        "englishStopWords = StopWordsRemover.loadDefaultStopWords(\"english\")\n",
        "stops = StopWordsRemover().setStopWords(englishStopWords).setInputCol(\"DescOut\")\n",
        "stops.transform(tokenized).show()"
      ],
      "metadata": {
        "colab": {
          "base_uri": "https://localhost:8080/"
        },
        "id": "TqjgK1Dw0i_F",
        "outputId": "d2f98068-cc3e-45ed-9c61-0b40c7ef270d"
      },
      "execution_count": null,
      "outputs": [
        {
          "output_type": "stream",
          "name": "stdout",
          "text": [
            "+--------------------+--------------------+-------------------------------------+\n",
            "|         Description|             DescOut|StopWordsRemover_2ff782587456__output|\n",
            "+--------------------+--------------------+-------------------------------------+\n",
            "|  RABBIT NIGHT LIGHT|[rabbit, night, l...|                 [rabbit, night, l...|\n",
            "| DOUGHNUT LIP GLOSS |[doughnut, lip, g...|                 [doughnut, lip, g...|\n",
            "|12 MESSAGE CARDS ...|[12, message, car...|                 [12, message, car...|\n",
            "|BLUE HARMONICA IN...|[blue, harmonica,...|                 [blue, harmonica,...|\n",
            "|   GUMBALL COAT RACK|[gumball, coat, r...|                 [gumball, coat, r...|\n",
            "|SKULLS  WATER TRA...|[skulls, , water,...|                 [skulls, , water,...|\n",
            "|FELTCRAFT GIRL AM...|[feltcraft, girl,...|                 [feltcraft, girl,...|\n",
            "|CAMOUFLAGE LED TORCH|[camouflage, led,...|                 [camouflage, led,...|\n",
            "|WHITE SKULL HOT W...|[white, skull, ho...|                 [white, skull, ho...|\n",
            "|ENGLISH ROSE HOT ...|[english, rose, h...|                 [english, rose, h...|\n",
            "|HOT WATER BOTTLE ...|[hot, water, bott...|                 [hot, water, bott...|\n",
            "|SCOTTIE DOG HOT W...|[scottie, dog, ho...|                 [scottie, dog, ho...|\n",
            "|ROSE CARAVAN DOOR...|[rose, caravan, d...|                 [rose, caravan, d...|\n",
            "|GINGHAM HEART  DO...|[gingham, heart, ...|                 [gingham, heart, ...|\n",
            "|STORAGE TIN VINTA...|[storage, tin, vi...|                 [storage, tin, vi...|\n",
            "|SET OF 4 KNICK KN...|[set, of, 4, knic...|                 [set, 4, knick, k...|\n",
            "|      POPCORN HOLDER|   [popcorn, holder]|                    [popcorn, holder]|\n",
            "|GROW A FLYTRAP OR...|[grow, a, flytrap...|                 [grow, flytrap, s...|\n",
            "|AIRLINE BAG VINTA...|[airline, bag, vi...|                 [airline, bag, vi...|\n",
            "|AIRLINE BAG VINTA...|[airline, bag, vi...|                 [airline, bag, vi...|\n",
            "+--------------------+--------------------+-------------------------------------+\n",
            "only showing top 20 rows\n",
            "\n"
          ]
        }
      ]
    },
    {
      "cell_type": "markdown",
      "source": [
        "## C.) Creating Word Combinations"
      ],
      "metadata": {
        "id": "QVSsV5px0202"
      }
    },
    {
      "cell_type": "code",
      "source": [
        "from pyspark.ml.feature import NGram\n",
        "\n",
        "unigram = NGram().setInputCol(\"DescOut\").setN(1)\n",
        "bigram = NGram().setInputCol(\"DescOut\").setN(2)"
      ],
      "metadata": {
        "id": "1uLFGy140wsz"
      },
      "execution_count": null,
      "outputs": []
    },
    {
      "cell_type": "code",
      "source": [
        "unigramRDD = unigram.transform(tokenized.select(\"DescOut\"))\n",
        "unigramRDD.show()"
      ],
      "metadata": {
        "colab": {
          "base_uri": "https://localhost:8080/"
        },
        "id": "mIgUNJ6g2VMV",
        "outputId": "21a62f29-62fa-4916-9766-e6f2d7948a11"
      },
      "execution_count": null,
      "outputs": [
        {
          "output_type": "stream",
          "name": "stdout",
          "text": [
            "+--------------------+--------------------------+\n",
            "|             DescOut|NGram_6679e9d34f1a__output|\n",
            "+--------------------+--------------------------+\n",
            "|[rabbit, night, l...|      [rabbit, night, l...|\n",
            "|[doughnut, lip, g...|      [doughnut, lip, g...|\n",
            "|[12, message, car...|      [12, message, car...|\n",
            "|[blue, harmonica,...|      [blue, harmonica,...|\n",
            "|[gumball, coat, r...|      [gumball, coat, r...|\n",
            "|[skulls, , water,...|      [skulls, , water,...|\n",
            "|[feltcraft, girl,...|      [feltcraft, girl,...|\n",
            "|[camouflage, led,...|      [camouflage, led,...|\n",
            "|[white, skull, ho...|      [white, skull, ho...|\n",
            "|[english, rose, h...|      [english, rose, h...|\n",
            "|[hot, water, bott...|      [hot, water, bott...|\n",
            "|[scottie, dog, ho...|      [scottie, dog, ho...|\n",
            "|[rose, caravan, d...|      [rose, caravan, d...|\n",
            "|[gingham, heart, ...|      [gingham, heart, ...|\n",
            "|[storage, tin, vi...|      [storage, tin, vi...|\n",
            "|[set, of, 4, knic...|      [set, of, 4, knic...|\n",
            "|   [popcorn, holder]|         [popcorn, holder]|\n",
            "|[grow, a, flytrap...|      [grow, a, flytrap...|\n",
            "|[airline, bag, vi...|      [airline, bag, vi...|\n",
            "|[airline, bag, vi...|      [airline, bag, vi...|\n",
            "+--------------------+--------------------------+\n",
            "only showing top 20 rows\n",
            "\n"
          ]
        }
      ]
    },
    {
      "cell_type": "code",
      "source": [
        "bigramRDD = bigram.transform(tokenized.select(\"DescOut\"))\n",
        "bigramRDD.show()"
      ],
      "metadata": {
        "colab": {
          "base_uri": "https://localhost:8080/"
        },
        "id": "-IIh4cBK27ei",
        "outputId": "d0046bea-86cd-477f-864d-b26a48a84ff2"
      },
      "execution_count": null,
      "outputs": [
        {
          "output_type": "stream",
          "name": "stdout",
          "text": [
            "+--------------------+--------------------------+\n",
            "|             DescOut|NGram_96fe20ee8337__output|\n",
            "+--------------------+--------------------------+\n",
            "|[rabbit, night, l...|      [rabbit night, ni...|\n",
            "|[doughnut, lip, g...|      [doughnut lip, li...|\n",
            "|[12, message, car...|      [12 message, mess...|\n",
            "|[blue, harmonica,...|      [blue harmonica, ...|\n",
            "|[gumball, coat, r...|      [gumball coat, co...|\n",
            "|[skulls, , water,...|      [skulls ,  water,...|\n",
            "|[feltcraft, girl,...|      [feltcraft girl, ...|\n",
            "|[camouflage, led,...|      [camouflage led, ...|\n",
            "|[white, skull, ho...|      [white skull, sku...|\n",
            "|[english, rose, h...|      [english rose, ro...|\n",
            "|[hot, water, bott...|      [hot water, water...|\n",
            "|[scottie, dog, ho...|      [scottie dog, dog...|\n",
            "|[rose, caravan, d...|      [rose caravan, ca...|\n",
            "|[gingham, heart, ...|      [gingham heart, h...|\n",
            "|[storage, tin, vi...|      [storage tin, tin...|\n",
            "|[set, of, 4, knic...|      [set of, of 4, 4 ...|\n",
            "|   [popcorn, holder]|          [popcorn holder]|\n",
            "|[grow, a, flytrap...|      [grow a, a flytra...|\n",
            "|[airline, bag, vi...|      [airline bag, bag...|\n",
            "|[airline, bag, vi...|      [airline bag, bag...|\n",
            "+--------------------+--------------------------+\n",
            "only showing top 20 rows\n",
            "\n"
          ]
        }
      ]
    },
    {
      "cell_type": "markdown",
      "source": [
        "# THANK YOU!"
      ],
      "metadata": {
        "id": "8zWlZY0t3R6k"
      }
    },
    {
      "cell_type": "code",
      "source": [
        "!wget -nc https://raw.githubusercontent.com/brpy/colab-pdf/master/colab_pdf.py\n",
        "from colab_pdf import colab_pdf\n",
        "colab_pdf('Big_Data06.ipynb')"
      ],
      "metadata": {
        "colab": {
          "base_uri": "https://localhost:8080/",
          "height": 321
        },
        "id": "HHb57863P5KV",
        "outputId": "d288545e-b2ec-45d8-85a6-c9f5b15c8759"
      },
      "execution_count": null,
      "outputs": [
        {
          "output_type": "stream",
          "name": "stdout",
          "text": [
            "File ‘colab_pdf.py’ already there; not retrieving.\n",
            "\n",
            "\n",
            "WARNING: apt does not have a stable CLI interface. Use with caution in scripts.\n",
            "\n",
            "\n",
            "WARNING: apt does not have a stable CLI interface. Use with caution in scripts.\n",
            "\n",
            "[NbConvertApp] Converting notebook /content/drive/MyDrive/Colab Notebooks/Big_Data06.ipynb to pdf\n",
            "[NbConvertApp] Writing 75281 bytes to ./notebook.tex\n",
            "[NbConvertApp] Building PDF\n",
            "[NbConvertApp] Running xelatex 3 times: ['xelatex', './notebook.tex', '-quiet']\n",
            "[NbConvertApp] Running bibtex 1 time: ['bibtex', './notebook']\n",
            "[NbConvertApp] WARNING | bibtex had problems, most likely because there were no citations\n",
            "[NbConvertApp] PDF successfully created\n",
            "[NbConvertApp] Writing 75443 bytes to /content/drive/My Drive/Big_Data06.pdf\n"
          ]
        },
        {
          "output_type": "display_data",
          "data": {
            "text/plain": [
              "<IPython.core.display.Javascript object>"
            ],
            "application/javascript": [
              "\n",
              "    async function download(id, filename, size) {\n",
              "      if (!google.colab.kernel.accessAllowed) {\n",
              "        return;\n",
              "      }\n",
              "      const div = document.createElement('div');\n",
              "      const label = document.createElement('label');\n",
              "      label.textContent = `Downloading \"${filename}\": `;\n",
              "      div.appendChild(label);\n",
              "      const progress = document.createElement('progress');\n",
              "      progress.max = size;\n",
              "      div.appendChild(progress);\n",
              "      document.body.appendChild(div);\n",
              "\n",
              "      const buffers = [];\n",
              "      let downloaded = 0;\n",
              "\n",
              "      const channel = await google.colab.kernel.comms.open(id);\n",
              "      // Send a message to notify the kernel that we're ready.\n",
              "      channel.send({})\n",
              "\n",
              "      for await (const message of channel.messages) {\n",
              "        // Send a message to notify the kernel that we're ready.\n",
              "        channel.send({})\n",
              "        if (message.buffers) {\n",
              "          for (const buffer of message.buffers) {\n",
              "            buffers.push(buffer);\n",
              "            downloaded += buffer.byteLength;\n",
              "            progress.value = downloaded;\n",
              "          }\n",
              "        }\n",
              "      }\n",
              "      const blob = new Blob(buffers, {type: 'application/binary'});\n",
              "      const a = document.createElement('a');\n",
              "      a.href = window.URL.createObjectURL(blob);\n",
              "      a.download = filename;\n",
              "      div.appendChild(a);\n",
              "      a.click();\n",
              "      div.remove();\n",
              "    }\n",
              "  "
            ]
          },
          "metadata": {}
        },
        {
          "output_type": "display_data",
          "data": {
            "text/plain": [
              "<IPython.core.display.Javascript object>"
            ],
            "application/javascript": [
              "download(\"download_c95c93fa-47b3-4b2b-9f18-eb93006d9161\", \"Big_Data06.pdf\", 75443)"
            ]
          },
          "metadata": {}
        },
        {
          "output_type": "execute_result",
          "data": {
            "text/plain": [
              "'File ready to be Downloaded and Saved to Drive'"
            ],
            "application/vnd.google.colaboratory.intrinsic+json": {
              "type": "string"
            }
          },
          "metadata": {},
          "execution_count": 6
        }
      ]
    },
    {
      "cell_type": "code",
      "source": [
        ""
      ],
      "metadata": {
        "id": "j1LAeGu0P9Hv"
      },
      "execution_count": null,
      "outputs": []
    }
  ]
}